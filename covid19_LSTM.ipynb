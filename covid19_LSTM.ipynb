{
  "nbformat": 4,
  "nbformat_minor": 0,
  "metadata": {
    "colab": {
      "name": "covid19-LSTM",
      "provenance": [],
      "toc_visible": true,
      "authorship_tag": "ABX9TyOgwVbBcxkJa8IUsZvMGbm+",
      "include_colab_link": true
    },
    "kernelspec": {
      "name": "python3",
      "display_name": "Python 3"
    },
    "language_info": {
      "name": "python"
    },
    "accelerator": "GPU"
  },
  "cells": [
    {
      "cell_type": "markdown",
      "metadata": {
        "id": "view-in-github",
        "colab_type": "text"
      },
      "source": [
        "<a href=\"https://colab.research.google.com/github/chancey922/covid19-model/blob/main/covid19_LSTM.ipynb\" target=\"_parent\"><img src=\"https://colab.research.google.com/assets/colab-badge.svg\" alt=\"Open In Colab\"/></a>"
      ]
    },
    {
      "cell_type": "markdown",
      "metadata": {
        "id": "aA_CkWpoIcC4"
      },
      "source": [
        "# 前期准备\n",
        "导入库和读取数据"
      ]
    },
    {
      "cell_type": "code",
      "metadata": {
        "id": "xcpqI0AUH98V"
      },
      "source": [
        "import torch\n",
        "from torch import nn\n",
        "import numpy as np\n",
        "import matplotlib.pyplot as plt"
      ],
      "execution_count": 1,
      "outputs": []
    },
    {
      "cell_type": "code",
      "metadata": {
        "colab": {
          "base_uri": "https://localhost:8080/",
          "height": 0
        },
        "id": "bux8HrkyILQp",
        "outputId": "290417ee-e02c-438a-8794-2b9e3bb96b2e"
      },
      "source": [
        "# 数据预处理\n",
        "import pandas as pd\n",
        "df = pd.read_excel('real_data.xlsx')\n",
        "value = df['全国累计确诊'].values[10:67]\n",
        "print(len(value))\n",
        "x = []\n",
        "y = []\n",
        "seq = 3\n",
        "for i in range(len(value)-seq-1):\n",
        "    x.append(value[i:i+seq])\n",
        "    y.append(value[i+seq])\n",
        "#print(x, '\\n', y)"
      ],
      "execution_count": 2,
      "outputs": [
        {
          "output_type": "stream",
          "text": [
            "57\n"
          ],
          "name": "stdout"
        }
      ]
    },
    {
      "cell_type": "code",
      "metadata": {
        "colab": {
          "base_uri": "https://localhost:8080/",
          "height": 572
        },
        "id": "on6HtOt_ITdz",
        "outputId": "f5cd170d-84fd-433c-a73d-b85665f6df9a"
      },
      "source": [
        "df"
      ],
      "execution_count": 3,
      "outputs": [
        {
          "output_type": "execute_result",
          "data": {
            "text/html": [
              "<div>\n",
              "<style scoped>\n",
              "    .dataframe tbody tr th:only-of-type {\n",
              "        vertical-align: middle;\n",
              "    }\n",
              "\n",
              "    .dataframe tbody tr th {\n",
              "        vertical-align: top;\n",
              "    }\n",
              "\n",
              "    .dataframe thead th {\n",
              "        text-align: right;\n",
              "    }\n",
              "</style>\n",
              "<table border=\"1\" class=\"dataframe\">\n",
              "  <thead>\n",
              "    <tr style=\"text-align: right;\">\n",
              "      <th></th>\n",
              "      <th>时间</th>\n",
              "      <th>湖北新增确诊</th>\n",
              "      <th>湖北现有确诊</th>\n",
              "      <th>全国累计确诊</th>\n",
              "      <th>Unnamed: 4</th>\n",
              "      <th>Unnamed: 5</th>\n",
              "      <th>韩国累计确诊</th>\n",
              "      <th>Unnamed: 7</th>\n",
              "      <th>Unnamed: 8</th>\n",
              "      <th>SARS全国</th>\n",
              "      <th>Unnamed: 10</th>\n",
              "      <th>Unnamed: 11</th>\n",
              "    </tr>\n",
              "  </thead>\n",
              "  <tbody>\n",
              "    <tr>\n",
              "      <th>0</th>\n",
              "      <td>1.16</td>\n",
              "      <td>4</td>\n",
              "      <td>45</td>\n",
              "      <td>NaN</td>\n",
              "      <td>NaN</td>\n",
              "      <td>2.21</td>\n",
              "      <td>208.0</td>\n",
              "      <td>NaN</td>\n",
              "      <td>NaN</td>\n",
              "      <td>1435.0</td>\n",
              "      <td>NaN</td>\n",
              "      <td>6月25日 共5327例 死348例</td>\n",
              "    </tr>\n",
              "    <tr>\n",
              "      <th>1</th>\n",
              "      <td>1.17</td>\n",
              "      <td>17</td>\n",
              "      <td>62</td>\n",
              "      <td>NaN</td>\n",
              "      <td>NaN</td>\n",
              "      <td>2.22</td>\n",
              "      <td>433.0</td>\n",
              "      <td>NaN</td>\n",
              "      <td>NaN</td>\n",
              "      <td>1807.0</td>\n",
              "      <td>NaN</td>\n",
              "      <td>6月24日 共5326例 死347例</td>\n",
              "    </tr>\n",
              "    <tr>\n",
              "      <th>2</th>\n",
              "      <td>1.18</td>\n",
              "      <td>59</td>\n",
              "      <td>121</td>\n",
              "      <td>NaN</td>\n",
              "      <td>NaN</td>\n",
              "      <td>2.23</td>\n",
              "      <td>433.0</td>\n",
              "      <td>NaN</td>\n",
              "      <td>NaN</td>\n",
              "      <td>2001.0</td>\n",
              "      <td>NaN</td>\n",
              "      <td>6月23日 共5326例 死347例</td>\n",
              "    </tr>\n",
              "    <tr>\n",
              "      <th>3</th>\n",
              "      <td>1.19</td>\n",
              "      <td>77</td>\n",
              "      <td>198</td>\n",
              "      <td>NaN</td>\n",
              "      <td>NaN</td>\n",
              "      <td>2.24</td>\n",
              "      <td>833.0</td>\n",
              "      <td>NaN</td>\n",
              "      <td>NaN</td>\n",
              "      <td>2305.0</td>\n",
              "      <td>NaN</td>\n",
              "      <td>6月22日 共5326例 死347例</td>\n",
              "    </tr>\n",
              "    <tr>\n",
              "      <th>4</th>\n",
              "      <td>1.2</td>\n",
              "      <td>72</td>\n",
              "      <td>270</td>\n",
              "      <td>NaN</td>\n",
              "      <td>NaN</td>\n",
              "      <td>2.25</td>\n",
              "      <td>799.0</td>\n",
              "      <td>NaN</td>\n",
              "      <td>NaN</td>\n",
              "      <td>2422.0</td>\n",
              "      <td>NaN</td>\n",
              "      <td>6月21日 共5326例 死347例</td>\n",
              "    </tr>\n",
              "    <tr>\n",
              "      <th>...</th>\n",
              "      <td>...</td>\n",
              "      <td>...</td>\n",
              "      <td>...</td>\n",
              "      <td>...</td>\n",
              "      <td>...</td>\n",
              "      <td>...</td>\n",
              "      <td>...</td>\n",
              "      <td>...</td>\n",
              "      <td>...</td>\n",
              "      <td>...</td>\n",
              "      <td>...</td>\n",
              "      <td>...</td>\n",
              "    </tr>\n",
              "    <tr>\n",
              "      <th>63</th>\n",
              "      <td>3.19</td>\n",
              "      <td>0</td>\n",
              "      <td>6287</td>\n",
              "      <td>81300.0</td>\n",
              "      <td>NaN</td>\n",
              "      <td>NaN</td>\n",
              "      <td>NaN</td>\n",
              "      <td>NaN</td>\n",
              "      <td>NaN</td>\n",
              "      <td>5326.0</td>\n",
              "      <td>NaN</td>\n",
              "      <td>4月23日 共2305例 死106例</td>\n",
              "    </tr>\n",
              "    <tr>\n",
              "      <th>64</th>\n",
              "      <td>3.20.</td>\n",
              "      <td>0</td>\n",
              "      <td>5719</td>\n",
              "      <td>81416.0</td>\n",
              "      <td>NaN</td>\n",
              "      <td>NaN</td>\n",
              "      <td>NaN</td>\n",
              "      <td>NaN</td>\n",
              "      <td>NaN</td>\n",
              "      <td>5326.0</td>\n",
              "      <td>NaN</td>\n",
              "      <td>4月21日 共2001例 死92例</td>\n",
              "    </tr>\n",
              "    <tr>\n",
              "      <th>65</th>\n",
              "      <td>3.21</td>\n",
              "      <td>0</td>\n",
              "      <td>5224</td>\n",
              "      <td>81498.0</td>\n",
              "      <td>NaN</td>\n",
              "      <td>NaN</td>\n",
              "      <td>NaN</td>\n",
              "      <td>NaN</td>\n",
              "      <td>NaN</td>\n",
              "      <td>5326.0</td>\n",
              "      <td>NaN</td>\n",
              "      <td>4月20日 共1807例 死79例</td>\n",
              "    </tr>\n",
              "    <tr>\n",
              "      <th>66</th>\n",
              "      <td>3.22</td>\n",
              "      <td>0</td>\n",
              "      <td>4768</td>\n",
              "      <td>81600.0</td>\n",
              "      <td>NaN</td>\n",
              "      <td>NaN</td>\n",
              "      <td>NaN</td>\n",
              "      <td>NaN</td>\n",
              "      <td>NaN</td>\n",
              "      <td>5327.0</td>\n",
              "      <td>NaN</td>\n",
              "      <td>4月15日 共1435例 死64例</td>\n",
              "    </tr>\n",
              "    <tr>\n",
              "      <th>67</th>\n",
              "      <td>3.23</td>\n",
              "      <td>1</td>\n",
              "      <td>4318</td>\n",
              "      <td>81747.0</td>\n",
              "      <td>NaN</td>\n",
              "      <td>NaN</td>\n",
              "      <td>NaN</td>\n",
              "      <td>NaN</td>\n",
              "      <td>NaN</td>\n",
              "      <td>NaN</td>\n",
              "      <td>NaN</td>\n",
              "      <td>NaN</td>\n",
              "    </tr>\n",
              "  </tbody>\n",
              "</table>\n",
              "<p>68 rows × 12 columns</p>\n",
              "</div>"
            ],
            "text/plain": [
              "       时间  湖北新增确诊  湖北现有确诊  ...  SARS全国  Unnamed: 10         Unnamed: 11\n",
              "0    1.16       4      45  ...  1435.0          NaN  6月25日 共5327例 死348例\n",
              "1    1.17      17      62  ...  1807.0          NaN  6月24日 共5326例 死347例\n",
              "2    1.18      59     121  ...  2001.0          NaN  6月23日 共5326例 死347例\n",
              "3    1.19      77     198  ...  2305.0          NaN  6月22日 共5326例 死347例\n",
              "4     1.2      72     270  ...  2422.0          NaN  6月21日 共5326例 死347例\n",
              "..    ...     ...     ...  ...     ...          ...                 ...\n",
              "63   3.19       0    6287  ...  5326.0          NaN  4月23日 共2305例 死106例\n",
              "64  3.20.       0    5719  ...  5326.0          NaN   4月21日 共2001例 死92例\n",
              "65   3.21       0    5224  ...  5326.0          NaN   4月20日 共1807例 死79例\n",
              "66   3.22       0    4768  ...  5327.0          NaN   4月15日 共1435例 死64例\n",
              "67   3.23       1    4318  ...     NaN          NaN                 NaN\n",
              "\n",
              "[68 rows x 12 columns]"
            ]
          },
          "metadata": {
            "tags": []
          },
          "execution_count": 3
        }
      ]
    },
    {
      "cell_type": "markdown",
      "metadata": {
        "id": "RPvyTz0MIr4Q"
      },
      "source": [
        "# 模型构建"
      ]
    },
    {
      "cell_type": "code",
      "metadata": {
        "colab": {
          "base_uri": "https://localhost:8080/",
          "height": 0
        },
        "id": "uJrUIdprIiYh",
        "outputId": "61041868-8ee5-4bde-dbf4-37f484f58734"
      },
      "source": [
        "#分割数据集\n",
        "train_x = (torch.tensor(x[0:40]).float()/100000.).reshape(-1, seq, 1)\n",
        "train_y = (torch.tensor(y[0:40]).float()/100000.).reshape(-1, 1)\n",
        "test_x = (torch.tensor(x[40:57]).float()/100000.).reshape(-1, seq, 1)\n",
        "test_y = (torch.tensor(y[40:57]).float()/100000.).reshape(-1, 1)\n",
        "print(test_y)"
      ],
      "execution_count": 4,
      "outputs": [
        {
          "output_type": "stream",
          "text": [
            "tensor([[0.8092],\n",
            "        [0.8095],\n",
            "        [0.8098],\n",
            "        [0.8100],\n",
            "        [0.8102],\n",
            "        [0.8105],\n",
            "        [0.8108],\n",
            "        [0.8112],\n",
            "        [0.8115],\n",
            "        [0.8123],\n",
            "        [0.8130],\n",
            "        [0.8142],\n",
            "        [0.8150]])\n"
          ],
          "name": "stdout"
        }
      ]
    },
    {
      "cell_type": "code",
      "metadata": {
        "colab": {
          "base_uri": "https://localhost:8080/",
          "height": 0
        },
        "id": "8NAT74nLIo8A",
        "outputId": "2263233b-f603-4a48-ca08-c583da15f001"
      },
      "source": [
        "# 模型训练\n",
        "class LSTM(nn.Module):\n",
        "    def __init__(self):\n",
        "        super(LSTM, self).__init__()\n",
        "        self.lstm = nn.LSTM(input_size=1, hidden_size=16, num_layers=1, batch_first=True)\n",
        "        self.linear = nn.Linear(16 * seq, 1)\n",
        "    def forward(self, x):\n",
        "        x, (h, c) = self.lstm(x)\n",
        "        x = x.reshape(-1, 16 * seq)\n",
        "        x = self.linear(x)\n",
        "        return x\n",
        "\n",
        "# 模型训练\n",
        "model = LSTM()\n",
        "optimzer = torch.optim.Adam(model.parameters(), lr=0.005)\n",
        "loss_func = nn.MSELoss()\n",
        "model.train()\n"
      ],
      "execution_count": 5,
      "outputs": [
        {
          "output_type": "execute_result",
          "data": {
            "text/plain": [
              "LSTM(\n",
              "  (lstm): LSTM(1, 16, batch_first=True)\n",
              "  (linear): Linear(in_features=48, out_features=1, bias=True)\n",
              ")"
            ]
          },
          "metadata": {
            "tags": []
          },
          "execution_count": 5
        }
      ]
    },
    {
      "cell_type": "code",
      "metadata": {
        "colab": {
          "base_uri": "https://localhost:8080/",
          "height": 0
        },
        "id": "H-_mkZuOIqaY",
        "outputId": "e38adc44-aa3f-45b7-e285-197b0c184726"
      },
      "source": [
        "for epoch in range(400):\n",
        "    output = model(train_x)\n",
        "    loss = loss_func(output, train_y)\n",
        "    optimzer.zero_grad()\n",
        "    loss.backward()\n",
        "    optimzer.step()\n",
        "    if epoch % 20 == 0:\n",
        "        tess_loss = loss_func(model(test_x), test_y)\n",
        "        print(\"epoch:{}, train_loss:{}, test_loss:{}\".format(epoch, loss, tess_loss))"
      ],
      "execution_count": 6,
      "outputs": [
        {
          "output_type": "stream",
          "text": [
            "epoch:0, train_loss:0.3821497857570648, test_loss:0.5748719573020935\n",
            "epoch:20, train_loss:0.066442109644413, test_loss:0.00018585972429718822\n",
            "epoch:40, train_loss:0.025051075965166092, test_loss:0.013004855252802372\n",
            "epoch:60, train_loss:0.005460820160806179, test_loss:0.0008794009918347001\n",
            "epoch:80, train_loss:0.0024912990629673004, test_loss:0.002265713643282652\n",
            "epoch:100, train_loss:0.001792054041288793, test_loss:0.000184164586244151\n",
            "epoch:120, train_loss:0.0015883429441601038, test_loss:0.000519231369253248\n",
            "epoch:140, train_loss:0.0014386266702786088, test_loss:0.0003404994204174727\n",
            "epoch:160, train_loss:0.0012954609701409936, test_loss:0.00030498072737827897\n",
            "epoch:180, train_loss:0.001156879821792245, test_loss:0.000242962792981416\n",
            "epoch:200, train_loss:0.0010252958163619041, test_loss:0.00019098786287941039\n",
            "epoch:220, train_loss:0.0009041220764629543, test_loss:0.0001394478022120893\n",
            "epoch:240, train_loss:0.0007972942548803985, test_loss:9.60077959462069e-05\n",
            "epoch:260, train_loss:0.0007084647077135742, test_loss:6.047057831892744e-05\n",
            "epoch:280, train_loss:0.0006398529512807727, test_loss:3.398436092538759e-05\n",
            "epoch:300, train_loss:0.0005913094501011074, test_loss:1.6527334082638845e-05\n",
            "epoch:320, train_loss:0.0005601558368653059, test_loss:6.675881195405964e-06\n",
            "epoch:340, train_loss:0.0005420556990429759, test_loss:2.250450279461802e-06\n",
            "epoch:360, train_loss:0.0005324141238816082, test_loss:1.0251270623484743e-06\n",
            "epoch:380, train_loss:0.00052751594921574, test_loss:1.282951416214928e-06\n"
          ],
          "name": "stdout"
        }
      ]
    },
    {
      "cell_type": "code",
      "metadata": {
        "colab": {
          "base_uri": "https://localhost:8080/",
          "height": 329
        },
        "id": "A3X-DNskI4EA",
        "outputId": "baa15bdd-26f5-4df9-f778-3c908deee8ca"
      },
      "source": [
        "# 模型预测、画图\n",
        "model.eval()\n",
        "prediction = list((model(train_x).data.reshape(-1))*100000) + list((model(test_x).data.reshape(-1))*100000)\n",
        "plt.plot(value[3:], label='True Value')\n",
        "plt.plot(prediction[:41], label='LSTM fit')\n",
        "plt.plot(np.arange(40, 53, 1), prediction[40:], label='LSTM pred')\n",
        "print(len(value[3:]))\n",
        "print(len(prediction[40:]))\n",
        "plt.legend(loc='best')\n",
        "plt.title('Cumulative infections prediction(mainland China)')\n",
        "plt.xlabel('Day')\n",
        "plt.ylabel('Cumulative Cases')\n",
        "plt.show()\n"
      ],
      "execution_count": 7,
      "outputs": [
        {
          "output_type": "stream",
          "text": [
            "54\n",
            "13\n"
          ],
          "name": "stdout"
        },
        {
          "output_type": "display_data",
          "data": {
            "image/png": "[encoded data removed]",
            "text/plain": [
              "<Figure size 432x288 with 1 Axes>"
            ]
          },
          "metadata": {
            "tags": [],
            "needs_background": "light"
          }
        }
      ]
    },
    {
      "cell_type": "markdown",
      "metadata": {
        "id": "RouGS0EAJx4y"
      },
      "source": [
        "# 传染病学仿真"
      ]
    },
    {
      "cell_type": "code",
      "metadata": {
        "id": "1dYEJUvnJSfR"
      },
      "source": [
        "# SEIR传染病模型仿真\n",
        "'没有解析解，ode求解数值解'\n",
        "'重点是动力学模型的准确性（SEIR还是SEIRS、SIQR、SIQS模型，以及媒体宣传和随机因素的影响），难点是beta，gamma，sigma/Te的取值'\n",
        "'模型忽略迁入率和迁出率，潜伏者传染率beta2，参数设置参考钟院士等文章http://dx.doi.org/10.21037/jtd.2020.02.64'\n",
        "######################################\n",
        "# N: 区域内总人口                      #\n",
        "# S: 易感者                           #\n",
        "# E: 潜伏者                           #\n",
        "# I: 感染者                           #\n",
        "# R: 康复者                           #\n",
        "# r: 每天接触的人数                    #\n",
        "# r2: 潜伏者每天接触的人数              #\n",
        "# beta1: 感染者传染给易感者的概率, I——>S #\n",
        "# beta2: 潜伏者感染易感者的概率, E——>S   #\n",
        "# sigma: 潜伏者转化为感染者的概率, E——>I #\n",
        "# gama: 康复概率, I——>R                #\n",
        "# T: 传播时间                          #\n",
        "#######################################"
      ],
      "execution_count": null,
      "outputs": []
    },
    {
      "cell_type": "markdown",
      "metadata": {
        "id": "6cbCYOhGJtBL"
      },
      "source": [
        "## 导入包"
      ]
    },
    {
      "cell_type": "code",
      "metadata": {
        "id": "xW-CZkG8JoFK"
      },
      "source": [
        "import numpy as np\n",
        "import matplotlib.pyplot as plt\n",
        "import scipy.integrate as spi\n"
      ],
      "execution_count": 8,
      "outputs": []
    },
    {
      "cell_type": "code",
      "metadata": {
        "id": "o9b5HN50J0kK"
      },
      "source": [
        "# 阶段一，11.24 - 1.23  1.11\n",
        "N = 60000000         # 湖北省为6000万，武汉900万\n",
        "E_0 = 0\n",
        "I_0 = 1\n",
        "R_0 = 0\n",
        "S_0 = N - E_0 - I_0 - R_0\n",
        "b1 = 0.02         # 真实数据拟合得出\n",
        "b2 = 0.021/3#0.007\n",
        "# r2 * beta2 = 2\n",
        "sigma = 1/14         # 1/14, 潜伏期的倒数\n",
        "gamma = 1/7          # 1/7, 感染期的倒数\n",
        "r = 18                # 政府干预措施决定\n",
        "T = 84"
      ],
      "execution_count": 10,
      "outputs": []
    },
    {
      "cell_type": "code",
      "metadata": {
        "id": "Og9HNdYpJ2Ga"
      },
      "source": [
        "#ode求解\n",
        "INI = [S_0, E_0, I_0, R_0]\n",
        "def SEIR(inivalue, _):\n",
        "    X = inivalue\n",
        "    Y = np.zeros(4)\n",
        "    # S数量\n",
        "    Y[0] = - (r * b1 * X[0] * X[2]) / N - (r * b2 * X[0] * X[1]) / N\n",
        "    # E数量\n",
        "    Y[1] = (r * b1 * X[0] * X[2]) / N + (r * b2 * X[0] * X[1]) / N - sigma * X[1]\n",
        "    # I数量\n",
        "    Y[2] = sigma * X[1] - gamma * X[2]\n",
        "    # R数量\n",
        "    Y[3] = gamma * X[2]\n",
        "    return Y\n",
        "\n",
        "T_range = np.arange(0, T+1)\n",
        "Res = spi.odeint(SEIR, INI, T_range)\n",
        "S_t = Res[:, 0]\n",
        "E_t = Res[:, 1]\n",
        "I_t = Res[:, 2]\n",
        "R_t = Res[:, 3]\n",
        "#print(I_t[60], type(I_t)) # 549 <class 'numpy.ndarray'>\n",
        "#print(E_t[57])\n",
        "\n",
        "\n",
        "# 阶段二，1.23后\n",
        "S_2 = S_t[T]\n",
        "E_2 = E_t[T]\n",
        "I_2 = I_t[T]\n",
        "R_2 = R_t[T]\n",
        "\n",
        "beta1 = 0.02#0.15747     # 真实数据拟合得出\n",
        "beta2 = 0.021/3#0.78735\n",
        "# r2 * beta2 = 2\n",
        "sigma2 = 1/4   # 1/14, 潜伏期的倒数\n",
        "#gamma = 1/6.736     # 1/7, 感染期的倒数\n",
        "r2 = 0.1              # 政府干预措施决定\n",
        "T2 = 150-T\n",
        "\n",
        "#ode求解\n",
        "INI = [S_2, E_2, I_2, R_2]\n",
        "def SEIR(inivalue, _):\n",
        "    X = inivalue\n",
        "    Y = np.zeros(4)\n",
        "    # S数量\n",
        "    Y[0] = - (r2 * beta1 * X[0] * X[2]) / N - (r2 * beta2 * X[0] * X[1]) / N\n",
        "    # E数量\n",
        "    Y[1] = (r2 * beta1 * X[0] * X[2]) / N + (r2 * beta2 * X[0] * X[1]) / N - sigma2 * X[1]\n",
        "    # I数量\n",
        "    Y[2] = sigma2 * X[1] - gamma * X[2]\n",
        "    # R数量\n",
        "    Y[3] = gamma * X[2]\n",
        "    return Y\n",
        "\n",
        "T_range = np.arange(0, T2+1)\n",
        "Res = spi.odeint(SEIR, INI, T_range)\n",
        "S_t2 = Res[:, 0]\n",
        "E_t2 = Res[:, 1]\n",
        "I_t2 = Res[:, 2]\n",
        "R_t2 = Res[:, 3]"
      ],
      "execution_count": 11,
      "outputs": []
    },
    {
      "cell_type": "code",
      "metadata": {
        "colab": {
          "base_uri": "https://localhost:8080/",
          "height": 33
        },
        "id": "bH59bMgGKAKx",
        "outputId": "681c98ce-fb32-449e-f7f6-9dddbf9fe02a"
      },
      "source": [
        "plt.figure(figsize=(10, 6))\n",
        "#显示日期\n",
        "import pandas as pd\n",
        "xs = pd.date_range(start='20191124', periods=T+1, freq='1D')#生成2020-02-11类型的日期数组（）\n",
        "#print(xs)\n",
        "xs2 = pd.date_range(start='20200216', periods=T2+1, freq='1D')\n"
      ],
      "execution_count": 13,
      "outputs": [
        {
          "output_type": "display_data",
          "data": {
            "text/plain": [
              "<Figure size 720x432 with 0 Axes>"
            ]
          },
          "metadata": {
            "tags": []
          }
        }
      ]
    },
    {
      "cell_type": "code",
      "metadata": {
        "colab": {
          "base_uri": "https://localhost:8080/",
          "height": 316
        },
        "id": "PLMHHPi_KF_5",
        "outputId": "f30b501d-0b58-4a00-a27d-3672ab22042f"
      },
      "source": [
        "#plt.plot(S_t, color='blue', label='Susceptibles')#, marker='.')\n",
        "plt.plot(xs, E_t, color='grey', label='Exposed', marker='.')\n",
        "plt.plot(xs2, E_t2, color='grey', label='Exposed Prediction')\n",
        "plt.plot(xs, I_t, color='red', label='Infected', marker='.')\n",
        "plt.plot(xs2, I_t2, color='red', label='Infected Prediction')\n",
        "plt.plot(xs, I_t + R_t, color='green', label='Infected + Removed', marker='.')\n",
        "plt.plot(xs2, I_t2 + R_t2, color='green', label='Cumulative Infections Prediction')\n",
        "#plt.plot(np.arange(0, T+1, 1), I_t + R_t, color='green', label='Removed')\n",
        "#plt.plot(np.arange(T, T+T2+1, 1), I_t2 + R_t2, color='green', label='Infected2')\n",
        "plt.xlabel('Date')\n",
        "plt.ylabel('Number')\n",
        "plt.title('SEIR Prediction(Hubei province, 10 days later intervention)')\n",
        "plt.legend()\n",
        "xs3 = pd.date_range(start='20200202', periods=1, freq='1D')\n",
        "#plt.plot(xs3, np.arange(1000, 2000, 1000))\n",
        "plt.annotate(r'$2.2-Intervention$', xy=(xs3, 200), xycoords='data', xytext=(-44, -60), textcoords='offset points',\n",
        "             fontsize=10, arrowprops=dict(arrowstyle='->', connectionstyle='arc3, rad=0'))\n",
        "#print(I_t2)\n",
        "xs4 = pd.date_range(start='20200220', periods=1, freq='1D')\n",
        "plt.annotate(r'$2.20-Peak$', xy=(xs4, 103911), xycoords='data', xytext=(-25, -130), textcoords='offset points',\n",
        "             fontsize=10, arrowprops=dict(arrowstyle='->', connectionstyle='arc3, rad=0'))\n",
        "#print(R_t2)\n",
        "xs5 = pd.date_range(start='20200420', periods=1, freq='1D')\n",
        "plt.annotate(r'4.20-Epidemic-Scale:261963', xy=(xs5, 261963), xycoords='data', xytext=(-70, -60), textcoords='offset points',\n",
        "             fontsize=10, arrowprops=dict(arrowstyle='->', connectionstyle='arc3, rad=0'))\n",
        "#plt.text(30, 10, r'$This\\ is\\ the\\ some\\ text.\\ \\mu_j\\ \\sigma_i\\ \\alpha_t$')\n",
        "plt.show()"
      ],
      "execution_count": 19,
      "outputs": [
        {
          "output_type": "display_data",
          "data": {
            "image/png": "[encoded data removed]",
            "text/plain": [
              "<Figure size 432x288 with 1 Axes>"
            ]
          },
          "metadata": {
            "tags": [],
            "needs_background": "light"
          }
        }
      ]
    }
  ]
}